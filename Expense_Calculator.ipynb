{
  "nbformat": 4,
  "nbformat_minor": 0,
  "metadata": {
    "colab": {
      "name": "Expense Calculator",
      "provenance": [],
      "authorship_tag": "ABX9TyPgr8ySbH8u06rHH6snYm0i",
      "include_colab_link": true
    },
    "kernelspec": {
      "name": "python3",
      "display_name": "Python 3"
    },
    "language_info": {
      "name": "python"
    }
  },
  "cells": [
    {
      "cell_type": "markdown",
      "metadata": {
        "id": "view-in-github",
        "colab_type": "text"
      },
      "source": [
        "<a href=\"https://colab.research.google.com/github/balayokesh/ExpenseCalculator/blob/main/Expense_Calculator.ipynb\" target=\"_parent\"><img src=\"https://colab.research.google.com/assets/colab-badge.svg\" alt=\"Open In Colab\"/></a>"
      ]
    },
    {
      "cell_type": "code",
      "metadata": {
        "colab": {
          "base_uri": "https://localhost:8080/"
        },
        "id": "ild8usp6XHGP",
        "outputId": "2b42130a-1f08-4aa3-c0ba-664f1c2297b1"
      },
      "source": [
        "import pandas as pd\n",
        "import matplotlib.pyplot as plt\n",
        "from google.colab import drive\n",
        "drive.mount('/content/gdrive')"
      ],
      "execution_count": 12,
      "outputs": [
        {
          "output_type": "stream",
          "name": "stdout",
          "text": [
            "Drive already mounted at /content/gdrive; to attempt to forcibly remount, call drive.mount(\"/content/gdrive\", force_remount=True).\n"
          ]
        }
      ]
    },
    {
      "cell_type": "code",
      "metadata": {
        "colab": {
          "base_uri": "https://localhost:8080/",
          "height": 204
        },
        "id": "JrHoLpAsdQ_m",
        "outputId": "5e963995-b288-49ea-ff63-a7762f9fbaad"
      },
      "source": [
        "df = pd.read_excel('/content/gdrive/MyDrive/Projects/ExpenseCalculator/ExpenseReport2021.xlsx')\n",
        "df"
      ],
      "execution_count": 15,
      "outputs": [
        {
          "output_type": "execute_result",
          "data": {
            "text/html": [
              "<div>\n",
              "<style scoped>\n",
              "    .dataframe tbody tr th:only-of-type {\n",
              "        vertical-align: middle;\n",
              "    }\n",
              "\n",
              "    .dataframe tbody tr th {\n",
              "        vertical-align: top;\n",
              "    }\n",
              "\n",
              "    .dataframe thead th {\n",
              "        text-align: right;\n",
              "    }\n",
              "</style>\n",
              "<table border=\"1\" class=\"dataframe\">\n",
              "  <thead>\n",
              "    <tr style=\"text-align: right;\">\n",
              "      <th></th>\n",
              "      <th>Day</th>\n",
              "      <th>Food</th>\n",
              "      <th>Transportation</th>\n",
              "      <th>Entertainment</th>\n",
              "      <th>Others</th>\n",
              "    </tr>\n",
              "  </thead>\n",
              "  <tbody>\n",
              "    <tr>\n",
              "      <th>0</th>\n",
              "      <td>1</td>\n",
              "      <td>200</td>\n",
              "      <td>100</td>\n",
              "      <td>20</td>\n",
              "      <td>500</td>\n",
              "    </tr>\n",
              "    <tr>\n",
              "      <th>1</th>\n",
              "      <td>2</td>\n",
              "      <td>170</td>\n",
              "      <td>20</td>\n",
              "      <td>21</td>\n",
              "      <td>1500</td>\n",
              "    </tr>\n",
              "    <tr>\n",
              "      <th>2</th>\n",
              "      <td>3</td>\n",
              "      <td>150</td>\n",
              "      <td>150</td>\n",
              "      <td>10</td>\n",
              "      <td>50</td>\n",
              "    </tr>\n",
              "    <tr>\n",
              "      <th>3</th>\n",
              "      <td>4</td>\n",
              "      <td>220</td>\n",
              "      <td>50</td>\n",
              "      <td>30</td>\n",
              "      <td>100</td>\n",
              "    </tr>\n",
              "    <tr>\n",
              "      <th>4</th>\n",
              "      <td>5</td>\n",
              "      <td>300</td>\n",
              "      <td>0</td>\n",
              "      <td>10</td>\n",
              "      <td>0</td>\n",
              "    </tr>\n",
              "  </tbody>\n",
              "</table>\n",
              "</div>"
            ],
            "text/plain": [
              "   Day  Food  Transportation  Entertainment  Others\n",
              "0    1   200             100             20     500\n",
              "1    2   170              20             21    1500\n",
              "2    3   150             150             10      50\n",
              "3    4   220              50             30     100\n",
              "4    5   300               0             10       0"
            ]
          },
          "metadata": {},
          "execution_count": 15
        }
      ]
    },
    {
      "cell_type": "markdown",
      "metadata": {
        "id": "NrnR5KRDj05N"
      },
      "source": [
        "# To get expense chart for a particular day"
      ]
    },
    {
      "cell_type": "code",
      "metadata": {
        "colab": {
          "base_uri": "https://localhost:8080/",
          "height": 281
        },
        "id": "DpRCcGp3e_qE",
        "outputId": "575b9acf-8761-4fa1-c399-e22af866652e"
      },
      "source": [
        "# Change the value of day to see expense chart for that particular day\n",
        "day = 3\n",
        "\n",
        "x = df['Food'][day-1], df['Transportation'][day-1], df['Entertainment'][day-1], df['Others'][day-1]\n",
        "plt.pie(\n",
        "    x, \n",
        "    labels = {'Food', 'Transportation', 'Entertainment', 'Others'},\n",
        ")\n",
        "plt.title('Expense chart on day' + str(day))"
      ],
      "execution_count": 43,
      "outputs": [
        {
          "output_type": "execute_result",
          "data": {
            "text/plain": [
              "Text(0.5, 1.0, 'Expense chart on day3')"
            ]
          },
          "metadata": {},
          "execution_count": 43
        },
        {
          "output_type": "display_data",
          "data": {
            "image/png": "[encoded data removed]",
            "text/plain": [
              "<Figure size 432x288 with 1 Axes>"
            ]
          },
          "metadata": {}
        }
      ]
    },
    {
      "cell_type": "markdown",
      "metadata": {
        "id": "2pnRQyplkKkR"
      },
      "source": [
        "# To get expense chart for overall expenses"
      ]
    },
    {
      "cell_type": "code",
      "metadata": {
        "colab": {
          "base_uri": "https://localhost:8080/",
          "height": 281
        },
        "id": "zQPiAGz1kQ_Q",
        "outputId": "38246b89-38c3-4fd9-f377-a9d8f9a3dbfb"
      },
      "source": [
        "count = df['Food'].count()\n",
        "food = 0\n",
        "transportation = 0\n",
        "entertainment = 0\n",
        "others = 0\n",
        "\n",
        "for i in range(count):\n",
        "  food = food + df['Food'][i]\n",
        "for i in range(count):\n",
        "  transportation = transportation + df['Transportation'][i]\n",
        "for i in range(count):\n",
        "  entertainment = entertainment + df['Entertainment'][i]\n",
        "for i in range(count):\n",
        "  others = others + df['Others'][i]\n",
        "\n",
        "x = food, transportation, entertainment, others\n",
        "plt.pie(\n",
        "    x, \n",
        "    labels = {'Food', 'Transportation', 'Entertainment', 'Others'},\n",
        ")\n",
        "plt.title('Expense chart for overall expenses of ' + str(count) + ' days')"
      ],
      "execution_count": 52,
      "outputs": [
        {
          "output_type": "execute_result",
          "data": {
            "text/plain": [
              "Text(0.5, 1.0, 'Expense chart for overall expenses of 5 days')"
            ]
          },
          "metadata": {},
          "execution_count": 52
        },
        {
          "output_type": "display_data",
          "data": {
            "image/png": "[encoded data removed]",
            "text/plain": [
              "<Figure size 432x288 with 1 Axes>"
            ]
          },
          "metadata": {}
        }
      ]
    }
  ]
}